{
 "cells": [
  {
   "cell_type": "code",
   "execution_count": 1,
   "metadata": {},
   "outputs": [],
   "source": [
    "import pandas as pd\n",
    "pd.set_option(\"display.max_columns\", 100)\n",
    "pd.set_option(\"display.max_rows\", 500)\n",
    "\n",
    "import numpy as np\n",
    "import os\n",
    "import re\n",
    "\n",
    "import matplotlib as mpl\n",
    "import matplotlib.pyplot as plt\n",
    "plt.style.use('dark_background')\n",
    "\n",
    "from tqdm.notebook import tqdm"
   ]
  },
  {
   "cell_type": "code",
   "execution_count": 4,
   "metadata": {},
   "outputs": [],
   "source": [
    "wDir = os.path.join('/Users','eugeniopaglino','Dropbox','Upenn','GitHub','monthly_county_level_excess_mortality')\n",
    "inDir = os.path.join(wDir,'data','input')\n",
    "outDir = os.path.join(wDir,'data','output')"
   ]
  },
  {
   "cell_type": "code",
   "execution_count": 5,
   "metadata": {},
   "outputs": [],
   "source": [
    "# We upload the list of FIPS codes that need to be changed and convert it to a dictionary\n",
    "FIPSFixes = pd.read_csv(os.path.join(inDir,'FIPSHarmonization','FIPSFixes.csv'),dtype=str)\n",
    "FIPSFixes = FIPSFixes.set_index('FIPSCode').to_dict()"
   ]
  },
  {
   "cell_type": "markdown",
   "metadata": {},
   "source": [
    "## Intercensal Population Estimates 1990-2000"
   ]
  },
  {
   "cell_type": "code",
   "execution_count": 6,
   "metadata": {},
   "outputs": [],
   "source": [
    "popDataPath = os.path.join(inDir,'popData','popInterCensEst19902000.txt')\n",
    "popCols = [f'pop{year}' for year in range(2000,1989,-1)]\n",
    "newPopCols = [f'pop{year}' for year in range(1990,2000)]\n",
    "colNames = ['block','FIPSCode'] + popCols + ['popApril1990','areaName']\n",
    "\n",
    "dtypes = {'B':str, 'County':str, '7/1/2000':str, '7/1/1999':str, '7/1/1998':str, '7/1/1997':str,\n",
    "          '7/1/1996':str, '7/1/1995':str, '7/1/1994':str, '7/1/1993':str, '7/1/1992':str, \n",
    "          '7/1/1991':str, '7/1/1990':str, '4/1/1990':str, 'Area Name':str}\n",
    "\n",
    "popData1990 = pd.read_fwf(popDataPath, converters=dtypes)"
   ]
  },
  {
   "cell_type": "code",
   "execution_count": 7,
   "metadata": {},
   "outputs": [],
   "source": [
    "popData1990.columns = colNames\n",
    "popData1990 = popData1990[['FIPSCode'] + newPopCols]\n",
    "popData1990 = popData1990.dropna()\n",
    "popData1990 = popData1990[popData1990.FIPSCode.apply(lambda x: len(x) == 5)]\n",
    "popData1990[newPopCols] = popData1990[newPopCols].applymap(lambda x: int(x.replace(',','')))"
   ]
  },
  {
   "cell_type": "code",
   "execution_count": 8,
   "metadata": {},
   "outputs": [],
   "source": [
    "# We drop state-level estimates\n",
    "popData1990 = popData1990[~(popData1990.FIPSCode.apply(lambda x: x.endswith('000')))]"
   ]
  },
  {
   "cell_type": "code",
   "execution_count": 9,
   "metadata": {},
   "outputs": [],
   "source": [
    "# Correct county FIPS that changed over time\n",
    "popData1990 = popData1990.replace(to_replace = {'FIPSCode':FIPSFixes['newFIPSCode']})\n",
    "popData1990 = popData1990.groupby('FIPSCode').sum().reset_index()"
   ]
  },
  {
   "cell_type": "markdown",
   "metadata": {},
   "source": [
    "## Intercensal Population Estimates 2000-2010"
   ]
  },
  {
   "cell_type": "code",
   "execution_count": 10,
   "metadata": {},
   "outputs": [],
   "source": [
    "cols = ['STATE','COUNTY','STNAME','CTYNAME'] + [f'POPESTIMATE{year}' for year in range(2000,2010)]\n",
    "\n",
    "popData2000 = pd.read_csv(os.path.join(inDir,'popData','popInterCensEst20002010.csv'),encoding=\"ISO-8859-1\",usecols=cols)"
   ]
  },
  {
   "cell_type": "code",
   "execution_count": 11,
   "metadata": {},
   "outputs": [],
   "source": [
    "def zero_padding(number,size=1):\n",
    "    return f\"{'0'*(len(str(10**size)) - len(str(int(number))))}{int(number)}\""
   ]
  },
  {
   "cell_type": "code",
   "execution_count": 12,
   "metadata": {},
   "outputs": [],
   "source": [
    "popData2000['FIPSCode'] = popData2000[['STATE','COUNTY']].apply(lambda x: zero_padding(x.STATE*1000 + x.COUNTY,size=4),axis=1)"
   ]
  },
  {
   "cell_type": "code",
   "execution_count": 13,
   "metadata": {},
   "outputs": [],
   "source": [
    "popData2000 = popData2000.rename(columns={f'POPESTIMATE{year}':f'pop{year}' for year in range(2000,2010)})\n",
    "popData2000 = popData2000[['FIPSCode'] + [f'pop{year}' for year in range(2000,2010)]]"
   ]
  },
  {
   "cell_type": "code",
   "execution_count": 14,
   "metadata": {},
   "outputs": [],
   "source": [
    "# We drop state-level estimates\n",
    "popData2000 = popData2000[~(popData2000.FIPSCode.apply(lambda x: x.endswith('000')))]"
   ]
  },
  {
   "cell_type": "code",
   "execution_count": 15,
   "metadata": {},
   "outputs": [],
   "source": [
    "# Correct county FIPS that changed over time\n",
    "popData2000 = popData2000.replace(to_replace = {'FIPSCode':FIPSFixes['newFIPSCode']})\n",
    "popData2000 = popData2000.groupby('FIPSCode').sum().reset_index()"
   ]
  },
  {
   "cell_type": "markdown",
   "metadata": {},
   "source": [
    "## Intercensal Population Estimates 2010-2020"
   ]
  },
  {
   "cell_type": "code",
   "execution_count": 16,
   "metadata": {},
   "outputs": [],
   "source": [
    "cols = ['STATE','COUNTY','STNAME','CTYNAME'] + [f'POPESTIMATE{year}' for year in range(2010,2020)]\n",
    "\n",
    "popData2010 = pd.read_csv(os.path.join(inDir,'popData','popInterCensEst20102020.csv'),encoding=\"ISO-8859-1\", usecols=cols)"
   ]
  },
  {
   "cell_type": "code",
   "execution_count": 17,
   "metadata": {},
   "outputs": [],
   "source": [
    "popData2010['FIPSCode'] = popData2010[['STATE','COUNTY']].apply(lambda x: zero_padding(x.STATE*1000 + x.COUNTY,size=4),axis=1)"
   ]
  },
  {
   "cell_type": "code",
   "execution_count": 18,
   "metadata": {},
   "outputs": [],
   "source": [
    "popData2010 = popData2010.rename(columns={f'POPESTIMATE{year}':f'pop{year}' for year in range(2010,2020)})\n",
    "popData2010 = popData2010[['FIPSCode'] + [f'pop{year}' for year in range(2010,2020)]]"
   ]
  },
  {
   "cell_type": "code",
   "execution_count": 19,
   "metadata": {},
   "outputs": [],
   "source": [
    "# We drop state-level estimates\n",
    "popData2010 = popData2010[~(popData2010.FIPSCode.apply(lambda x: x.endswith('000')))]"
   ]
  },
  {
   "cell_type": "code",
   "execution_count": 20,
   "metadata": {},
   "outputs": [],
   "source": [
    "# Correct county FIPS that changed over time\n",
    "popData2010 = popData2010.replace(to_replace = {'FIPSCode':FIPSFixes['newFIPSCode']})\n",
    "popData2010 = popData2010.groupby('FIPSCode').sum().reset_index()"
   ]
  },
  {
   "cell_type": "markdown",
   "metadata": {},
   "source": [
    "## Population Estimates 2020-2021"
   ]
  },
  {
   "cell_type": "code",
   "execution_count": 21,
   "metadata": {},
   "outputs": [],
   "source": [
    "cols = ['STATE','COUNTY','STNAME','CTYNAME'] + [f'POPESTIMATE{year}' for year in range(2020,2022)]\n",
    "\n",
    "popData2020 = pd.read_csv(os.path.join(inDir,'popData','popEst20202021.csv'),encoding=\"ISO-8859-1\", usecols=cols)"
   ]
  },
  {
   "cell_type": "code",
   "execution_count": 22,
   "metadata": {},
   "outputs": [],
   "source": [
    "popData2020['FIPSCode'] = popData2020[['STATE','COUNTY']].apply(lambda x: zero_padding(x.STATE*1000 + x.COUNTY,size=4),axis=1)"
   ]
  },
  {
   "cell_type": "code",
   "execution_count": 23,
   "metadata": {},
   "outputs": [],
   "source": [
    "popData2020 = popData2020.rename(columns={f'POPESTIMATE{year}':f'pop{year}' for year in range(2020,2022)})\n",
    "popData2020 = popData2020[['FIPSCode'] + [f'pop{year}' for year in range(2020,2022)]]"
   ]
  },
  {
   "cell_type": "code",
   "execution_count": 24,
   "metadata": {},
   "outputs": [],
   "source": [
    "# We drop state-level estimates\n",
    "popData2020 = popData2020[~(popData2020.FIPSCode.apply(lambda x: x.endswith('000')))]"
   ]
  },
  {
   "cell_type": "code",
   "execution_count": 25,
   "metadata": {},
   "outputs": [],
   "source": [
    "# Correct county FIPS that changed over time\n",
    "popData2020 = popData2020.replace(to_replace = {'FIPSCode':FIPSFixes['newFIPSCode']})\n",
    "popData2020 = popData2020.groupby('FIPSCode').sum().reset_index()"
   ]
  },
  {
   "cell_type": "markdown",
   "metadata": {},
   "source": [
    "## Bringing All Together"
   ]
  },
  {
   "cell_type": "code",
   "execution_count": 44,
   "metadata": {},
   "outputs": [],
   "source": [
    "popDataWide = popData1990.merge(popData2000,on='FIPSCode',how='outer')\n",
    "popDataWide = popDataWide.merge(popData2010,on='FIPSCode',how='outer')\n",
    "popDataWide = popDataWide.merge(popData2020,on='FIPSCode',how='outer')"
   ]
  },
  {
   "cell_type": "code",
   "execution_count": 45,
   "metadata": {},
   "outputs": [],
   "source": [
    "# NOTE: All issues with the FIPS codes should be solved now"
   ]
  },
  {
   "cell_type": "code",
   "execution_count": 46,
   "metadata": {},
   "outputs": [],
   "source": [
    "popData = pd.wide_to_long(popDataWide,stubnames='pop',i='FIPSCode',j='year').reset_index()"
   ]
  },
  {
   "cell_type": "code",
   "execution_count": 47,
   "metadata": {},
   "outputs": [],
   "source": [
    "popData = popData.sort_values(by=['FIPSCode','year']).reset_index(drop=True)"
   ]
  },
  {
   "cell_type": "code",
   "execution_count": 48,
   "metadata": {},
   "outputs": [],
   "source": [
    "popData['popLead'] = popData.groupby('FIPSCode')['pop'].shift(-1)\n",
    "popData['popLead'] = popData.popLead.where(~np.isnan(popData.popLead),popData['pop'])"
   ]
  },
  {
   "cell_type": "code",
   "execution_count": 49,
   "metadata": {},
   "outputs": [],
   "source": [
    "indexer = pd.api.indexers.FixedForwardWindowIndexer(window_size=2)\n",
    "popData['avgPop'] = popData.groupby('FIPSCode')['pop'].rolling(window=indexer,min_periods=1).mean().reset_index()['pop']"
   ]
  },
  {
   "cell_type": "code",
   "execution_count": 50,
   "metadata": {},
   "outputs": [],
   "source": [
    "monthSeq = [7,8,9,10,11,12,1,2,3,4,5,6]\n",
    "\n",
    "months1990 = pd.Series([month for FIPSCode in popData.FIPSCode.unique() for month in range(7,13)])\n",
    "months2021 = pd.Series([month for FIPSCode in popData.FIPSCode.unique() for month in range(1,7)])\n",
    "otherMonths = pd.Series([month for FIPSCode in popData.FIPSCode.unique() for year in range(1991,2021) for month in range(1,13)])\n",
    "\n",
    "years1990 = pd.Series([1990 for FIPSCode in popData.FIPSCode.unique() for month in range(7,13)])\n",
    "years2021 = pd.Series([2021 for FIPSCode in popData.FIPSCode.unique() for month in range(1,7)])\n",
    "otherYears = pd.Series([year for FIPSCode in popData.FIPSCode.unique() for year in range(1991,2021) for month in range(1,13)])\n",
    "\n",
    "FIPS1990 = pd.Series([FIPSCode for FIPSCode in popData.FIPSCode.unique() for month in range(7,13)])\n",
    "FIPS2021 = pd.Series([FIPSCode for FIPSCode in popData.FIPSCode.unique() for month in range(1,7)])\n",
    "otherFIPS = pd.Series([FIPSCode for FIPSCode in popData.FIPSCode.unique() for year in range(1991,2021) for month in range(1,13)])\n",
    "\n",
    "monthlyPop = popData[popData.year<2021].apply(lambda x: np.linspace(x['pop'],\n",
    "                                                                    x.popLead,13)[:12],\n",
    "                                              axis=1).apply(pd.Series).stack().reset_index(drop = True)"
   ]
  },
  {
   "cell_type": "code",
   "execution_count": 51,
   "metadata": {},
   "outputs": [],
   "source": [
    "popDataMonthly = pd.DataFrame({'FIPSCode':FIPS1990,'year':years1990,'month':months1990})\n",
    "popDataMonthly = pd.concat([popDataMonthly,pd.DataFrame({'FIPSCode':otherFIPS,'year':otherYears,'month':otherMonths})])\n",
    "popDataMonthly = pd.concat([popDataMonthly,pd.DataFrame({'FIPSCode':FIPS2021,'year':years2021,'month':months2021})])\n",
    "popDataMonthly = popDataMonthly.sort_values(by=['FIPSCode','year','month'])\n",
    "popDataMonthly = popDataMonthly.reset_index(drop=True)"
   ]
  },
  {
   "cell_type": "code",
   "execution_count": 52,
   "metadata": {},
   "outputs": [],
   "source": [
    "popDataMonthly['pop'] = monthlyPop"
   ]
  },
  {
   "cell_type": "code",
   "execution_count": 53,
   "metadata": {},
   "outputs": [],
   "source": [
    "popDataJuly2021 = popData.loc[popData.year==2021,['FIPSCode','year','pop']].reset_index(drop=True)\n",
    "popDataJuly2021['month'] = 7"
   ]
  },
  {
   "cell_type": "code",
   "execution_count": 54,
   "metadata": {},
   "outputs": [],
   "source": [
    "popDataMonthly = pd.concat([popDataMonthly,popDataJuly2021])\n",
    "popDataMonthly = popDataMonthly.sort_values(by=['FIPSCode','year','month'])\n",
    "popDataMonthly = popDataMonthly.reset_index(drop=True)"
   ]
  },
  {
   "cell_type": "code",
   "execution_count": 57,
   "metadata": {},
   "outputs": [],
   "source": [
    "months2021 = pd.Series([month for FIPSCode in popData.FIPSCode.unique() for month in range(8,13)])\n",
    "years2021 = pd.Series([2021 for FIPSCode in popData.FIPSCode.unique() for month in range(8,13)])\n",
    "FIPS2021 = pd.Series([FIPSCode for FIPSCode in popData.FIPSCode.unique() for month in range(8,13)])\n",
    "\n",
    "monthlyPop2021 = [pop for pop in popDataJuly2021['pop'] for month in range(8,13)]"
   ]
  },
  {
   "cell_type": "code",
   "execution_count": 58,
   "metadata": {},
   "outputs": [],
   "source": [
    "popDataMonthly2021 = pd.DataFrame({'FIPSCode':FIPS2021,'year':years2021,'month':months2021,'pop':monthlyPop2021})\n",
    "popDataMonthly2021 = popDataMonthly2021.sort_values(by=['FIPSCode','year','month'])\n",
    "popDataMonthly2021 = popDataMonthly2021.reset_index(drop=True)"
   ]
  },
  {
   "cell_type": "code",
   "execution_count": 59,
   "metadata": {},
   "outputs": [],
   "source": [
    "popDataMonthly = pd.concat([popDataMonthly,popDataMonthly2021])\n",
    "popDataMonthly = popDataMonthly.sort_values(by=['FIPSCode','year','month'])\n",
    "popDataMonthly = popDataMonthly.reset_index(drop=True)"
   ]
  },
  {
   "cell_type": "code",
   "execution_count": 60,
   "metadata": {
    "scrolled": true
   },
   "outputs": [],
   "source": [
    "popDataMonthly.to_feather(os.path.join(outDir,'popDataMonthly.feather'))"
   ]
  },
  {
   "cell_type": "code",
   "execution_count": null,
   "metadata": {},
   "outputs": [],
   "source": []
  }
 ],
 "metadata": {
  "kernelspec": {
   "display_name": "Python 3",
   "language": "python",
   "name": "python3"
  },
  "language_info": {
   "codemirror_mode": {
    "name": "ipython",
    "version": 3
   },
   "file_extension": ".py",
   "mimetype": "text/x-python",
   "name": "python",
   "nbconvert_exporter": "python",
   "pygments_lexer": "ipython3",
   "version": "3.8.6"
  }
 },
 "nbformat": 4,
 "nbformat_minor": 5
}
